{
 "cells": [
  {
   "cell_type": "code",
   "execution_count": null,
   "metadata": {},
   "outputs": [],
   "source": [
    "import random\n",
    "\n",
    "modalidade=input(\"Escolha quem adivinha (Computador/Jogador): \")\n",
    " \n",
    "if modalidade==\"jogador\":\n",
    "    numadiv = random.randint(0,100) \n",
    "    contador = 0 \n",
    "    guess = int(input(\"O número a adivinhar é? \")) \n",
    "\n",
    "    if guess != numadiv: \n",
    "      contador = contador + 1\n",
    "\n",
    "    while guess != numadiv: \n",
    "      \n",
    "      if guess < numadiv: \n",
    "        print(\"O número que pensei é Maior do que \" + str(guess) + \".\") \n",
    "        guess = int(input(\"O número a adivinhar é? \"))\n",
    "        contador = contador + 1 \n",
    "      elif guess > numadiv: \n",
    "        print(\"O número que pensei é Menor do que \"+ str(guess) + \".\")\n",
    "        guess = int(input(\"O número a adivinhar é? \"))\n",
    "        contador = contador + 1 \n",
    "\n",
    "    print(\"Acertou!!\")\n",
    "    print(\"Conseguiu acertar em \" + str(contador) + \" tentativas .\") \n",
    "\n",
    "else:   \n",
    "    lower=0\n",
    "    upper=100\n",
    "    dif=upper-lower\n",
    "    resposta=resposta=lower+dif/2\n",
    "                \n",
    "    ans=input(\"O seu número é {}? sim/maior/menor\".format(resposta))\n",
    "    N=1\n",
    "\n",
    "    while ans!=\"sim\":\n",
    "    \n",
    "        if ans==\"maior\":\n",
    "            lower=resposta\n",
    "            dif=upper-lower\n",
    "        \n",
    "            if dif%2==0:\n",
    "                resposta=lower+dif/2\n",
    "\n",
    "            elif dif%2>0:\n",
    "                resposta=lower+dif/2+0.5\n",
    "        \n",
    "            ans=input(\"O seu número é {}? sim/maior/menor\".format(resposta))\n",
    "            N=N+1\n",
    "\n",
    "        if ans==\"menor\":\n",
    "            upper=resposta\n",
    "            dif=upper-lower\n",
    "                \n",
    "            if dif%2==0:\n",
    "                resposta=lower+dif/2\n",
    "                \n",
    "            elif dif%2>0:\n",
    "                resposta=lower+dif/2+0.5\n",
    "\n",
    "            \n",
    "            ans=input(\"O seu número é {}? sim/maior/menor\".format(resposta))\n",
    "            N=N+1\n",
    "\n",
    "    print(\"{} tentativas.\".format(N))"
   ]
  }
 ],
 "metadata": {
  "kernelspec": {
   "display_name": "Python 3.10.7 64-bit (microsoft store)",
   "language": "python",
   "name": "python3"
  },
  "language_info": {
   "codemirror_mode": {
    "name": "ipython",
    "version": 3
   },
   "file_extension": ".py",
   "mimetype": "text/x-python",
   "name": "python",
   "nbconvert_exporter": "python",
   "pygments_lexer": "ipython3",
   "version": "3.10.7"
  },
  "orig_nbformat": 4,
  "vscode": {
   "interpreter": {
    "hash": "07f25d79d22bb07f853fe60dc6a8951878331861792a9e3972b395129bc8db22"
   }
  }
 },
 "nbformat": 4,
 "nbformat_minor": 2
}
